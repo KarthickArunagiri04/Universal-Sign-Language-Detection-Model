{
 "cells": [
  {
   "cell_type": "code",
   "execution_count": 1,
   "metadata": {},
   "outputs": [
    {
     "name": "stdout",
     "output_type": "stream",
     "text": [
      "Press 'q' to quit the streaming...\n",
      "Detected: No\n",
      "Detected: No\n",
      "Detected: Hello\n",
      "Detected: IloveYou\n",
      "Detected: Hello\n",
      "Detected: Hello\n",
      "Detected: No\n",
      "Detected: Thanks\n",
      "Detected: No\n",
      "Detected: Please\n",
      "Detected: Please\n",
      "Detected: Yes\n",
      "Detected: Hello\n",
      "Detected: IloveYou\n",
      "Detected: Hello\n"
     ]
    }
   ],
   "source": [
    "import cv2\n",
    "import pyttsx3\n",
    "from ultralytics import YOLO\n",
    "\n",
    "# Initialize YOLO model\n",
    "model = YOLO(r\"C:\\Users\\Harishmita\\Downloads\\CAM\\best (1).pt\")\n",
    "\n",
    "# Initialize text-to-speech engine\n",
    "engine = pyttsx3.init()\n",
    "engine.setProperty('rate', 150)  # Speed of speech\n",
    "engine.setProperty('volume', 0.9)  # Volume level\n",
    "\n",
    "# Open the webcam\n",
    "cap = cv2.VideoCapture(0)  # 0 for default webcam\n",
    "\n",
    "if not cap.isOpened():\n",
    "    print(\"Error: Could not access the webcam.\")\n",
    "    exit()\n",
    "\n",
    "print(\"Press 'q' to quit the streaming...\")\n",
    "\n",
    "while True:\n",
    "    ret, frame = cap.read()\n",
    "    if not ret:\n",
    "        print(\"Error: Failed to capture the frame.\")\n",
    "        break\n",
    "\n",
    "    # Perform inference on the frame\n",
    "    results = model.predict(source=frame, save=False, verbose=False)\n",
    "\n",
    "    # Draw bounding boxes and labels on the frame\n",
    "    annotated_frame = results[0].plot()\n",
    "\n",
    "    # Extract detected classes\n",
    "    detected_classes = [model.names[int(pred[-1])] for pred in results[0].boxes.data]\n",
    "\n",
    "    # Display the annotated frame\n",
    "    cv2.imshow(\"Live Webcam Feed\", annotated_frame)\n",
    "\n",
    "    # Text-to-speech for detected classes\n",
    "    for detected_class in detected_classes:\n",
    "        print(f\"Detected: {detected_class}\")\n",
    "        engine.say(detected_class)\n",
    "    engine.runAndWait()\n",
    "\n",
    "    # Break the loop if 'q' is pressed\n",
    "    if cv2.waitKey(1) & 0xFF == ord('q'):\n",
    "        break\n",
    "\n",
    "# Release resources\n",
    "cap.release()\n",
    "cv2.destroyAllWindows()\n",
    "\n"
   ]
  },
  {
   "cell_type": "code",
   "execution_count": null,
   "metadata": {},
   "outputs": [],
   "source": []
  }
 ],
 "metadata": {
  "kernelspec": {
   "display_name": "Python 3",
   "language": "python",
   "name": "python3"
  },
  "language_info": {
   "codemirror_mode": {
    "name": "ipython",
    "version": 3
   },
   "file_extension": ".py",
   "mimetype": "text/x-python",
   "name": "python",
   "nbconvert_exporter": "python",
   "pygments_lexer": "ipython3",
   "version": "3.11.1"
  }
 },
 "nbformat": 4,
 "nbformat_minor": 2
}
